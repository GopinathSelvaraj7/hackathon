{
 "cells": [
  {
   "cell_type": "code",
   "execution_count": 1,
   "id": "736b1aa0",
   "metadata": {},
   "outputs": [],
   "source": [
    "import tensorflow as tf\n",
    "from tensorflow import keras"
   ]
  },
  {
   "cell_type": "code",
   "execution_count": 2,
   "id": "1acc3082",
   "metadata": {},
   "outputs": [],
   "source": [
    "reconstructed_model = tf.keras.models.load_model('final_model.h5')"
   ]
  },
  {
   "cell_type": "code",
   "execution_count": 3,
   "id": "ec0b826b",
   "metadata": {},
   "outputs": [],
   "source": [
    "import pandas as pd\n",
    "import numpy as np\n",
    "# import matplotlib.pyplot as plt\n",
    "from sklearn import svm\n",
    "from sklearn.model_selection import train_test_split\n",
    "import json\n",
    "import re\n",
    "import tensorflow as tf\n",
    "import numpy as np\n",
    "import more_itertools"
   ]
  },
  {
   "cell_type": "code",
   "execution_count": 4,
   "id": "ffd88bd8",
   "metadata": {},
   "outputs": [],
   "source": [
    "candidate = pd.read_excel(\"candidate_master_data.xlsx\",sheet_name='Candidate Data')\n",
    "candidate.to_csv(\"candidate_master.csv\",index=None,header=True)\n",
    "cand_df = pd.read_csv(\"candidate_master.csv\")"
   ]
  },
  {
   "cell_type": "code",
   "execution_count": 5,
   "id": "7040d249",
   "metadata": {},
   "outputs": [],
   "source": [
    "def skill_parsing(skill):\n",
    "    '''\n",
    "    Function that extracts the skills from the Skill column \n",
    "    '''\n",
    "    res = json.loads(skill,strict=False)\n",
    "    skill_list=res['skills']\n",
    "    \n",
    "    skills = []\n",
    "    \n",
    "    for i in range (len(skill_list)):\n",
    "        if skill_list[i]['skill_type'] == 'primary':\n",
    "            skills.append(skill_list[i]['skill'])\n",
    "        else:\n",
    "            if skill_list[i]['skill_type'] == 'secondary':\n",
    "                skills.append(skill_list[i]['skill'])\n",
    "    return skills\n",
    "\n",
    "can_skills ={}\n",
    "skill_dict = dict(zip(cand_df['Candidate ID'],cand_df['Skills']))\n",
    "\n",
    "for i in range (len(skill_dict)):\n",
    "    for k,v in skill_dict.items():\n",
    "        values=skill_dict[k]\n",
    "        skill_set=skill_parsing(values)\n",
    "        can_skills.update({k:skill_set})"
   ]
  },
  {
   "cell_type": "code",
   "execution_count": 6,
   "id": "dc0417f5",
   "metadata": {},
   "outputs": [],
   "source": [
    "requisition = pd.read_excel(\"requisition_data.xlsx\",sheet_name='Requisition Data')\n",
    "requisition.to_csv(\"requisition.csv\",index=None,header=True)\n",
    "req_df = pd.read_csv(\"requisition.csv\")\n",
    "req_df = req_df[req_df['Skills'].notna()]"
   ]
  },
  {
   "cell_type": "code",
   "execution_count": 7,
   "id": "4c613ff4",
   "metadata": {},
   "outputs": [
    {
     "name": "stderr",
     "output_type": "stream",
     "text": [
      "C:\\Users\\gopinath.selvaraj\\Anaconda3\\envs\\env\\lib\\site-packages\\pandas\\util\\_decorators.py:311: SettingWithCopyWarning: \n",
      "A value is trying to be set on a copy of a slice from a DataFrame\n",
      "\n",
      "See the caveats in the documentation: https://pandas.pydata.org/pandas-docs/stable/user_guide/indexing.html#returning-a-view-versus-a-copy\n",
      "  return func(*args, **kwargs)\n"
     ]
    }
   ],
   "source": [
    "final_df=cand_df[['Candidate ID','Current Designation','Total Experience ( in Months)', 'Education__degree']]\n",
    "final_df.drop_duplicates('Candidate ID',inplace=True)"
   ]
  },
  {
   "cell_type": "code",
   "execution_count": 8,
   "id": "494fb211",
   "metadata": {},
   "outputs": [],
   "source": [
    "can_keys=can_skills.keys()\n",
    "can_values=can_skills.values()"
   ]
  },
  {
   "cell_type": "code",
   "execution_count": 9,
   "id": "aa58fbb3",
   "metadata": {},
   "outputs": [],
   "source": [
    "new_list=[]\n",
    "str1=' '\n",
    "for i in range (len(can_values)):\n",
    "    s=str1.join(list(can_values)[i])\n",
    "    new_list.append(s)\n",
    "    str1=' '\n",
    "\n",
    "data={'Candidate ID':can_keys, 'Can_Skills':new_list}\n",
    "skill_df = pd.DataFrame.from_dict(data)"
   ]
  },
  {
   "cell_type": "code",
   "execution_count": 10,
   "id": "0e65eb80",
   "metadata": {},
   "outputs": [],
   "source": [
    "final_df=final_df.merge(skill_df,left_on=['Candidate ID'], right_on=['Candidate ID'],how='left')"
   ]
  },
  {
   "cell_type": "code",
   "execution_count": 11,
   "id": "04522b86",
   "metadata": {},
   "outputs": [
    {
     "name": "stdout",
     "output_type": "stream",
     "text": [
      "Current Designation\n",
      "Education__degree\n",
      "Can_Skills\n"
     ]
    }
   ],
   "source": [
    "# Check for columns which arent numbers\n",
    "for label, content in final_df.items():\n",
    "    if not pd.api.types.is_numeric_dtype(content):\n",
    "        print(label)"
   ]
  },
  {
   "cell_type": "code",
   "execution_count": 12,
   "id": "32427279",
   "metadata": {},
   "outputs": [],
   "source": [
    "# Turn categorical variables into numbers and fill them\n",
    "for label, content in final_df.items():\n",
    "    if not pd.api.types.is_numeric_dtype(content):\n",
    "        final_df[label] = pd.Categorical(content).codes + 1"
   ]
  },
  {
   "cell_type": "code",
   "execution_count": 13,
   "id": "fed38089",
   "metadata": {},
   "outputs": [],
   "source": [
    "# Find the columns that contains strings\n",
    "for label, content in final_df.items():\n",
    "    if pd.api.types.is_string_dtype(content):\n",
    "        print(label)"
   ]
  },
  {
   "cell_type": "code",
   "execution_count": 14,
   "id": "aefecb24",
   "metadata": {},
   "outputs": [],
   "source": [
    "# This will change all string values to categories\n",
    "for label, content in final_df.items():\n",
    "    if pd.api.types.is_string_dtype(content):\n",
    "        final_df[label] = content.astype(\"category\").cat.as_ordered()"
   ]
  },
  {
   "cell_type": "code",
   "execution_count": 16,
   "id": "c4740fad",
   "metadata": {},
   "outputs": [],
   "source": [
    "X = final_df[['Candidate ID','Current Designation','Total Experience ( in Months)','Education__degree','Can_Skills']]"
   ]
  },
  {
   "cell_type": "code",
   "execution_count": 17,
   "id": "7c1b607b",
   "metadata": {},
   "outputs": [],
   "source": [
    "X_test = X.drop(['Candidate ID'],axis=1)"
   ]
  },
  {
   "cell_type": "code",
   "execution_count": 18,
   "id": "e76b655e",
   "metadata": {},
   "outputs": [],
   "source": [
    "from sklearn.preprocessing import MinMaxScaler\n",
    "scalar = MinMaxScaler()\n",
    "scalar.fit(X_test)\n",
    "X_trans = scalar.transform(X_test)"
   ]
  },
  {
   "cell_type": "code",
   "execution_count": 19,
   "id": "814a25f1",
   "metadata": {},
   "outputs": [],
   "source": [
    "pred_values = reconstructed_model.predict(X_trans)"
   ]
  },
  {
   "cell_type": "code",
   "execution_count": 22,
   "id": "abb06417",
   "metadata": {},
   "outputs": [],
   "source": [
    "y_score = []\n",
    "for i in range (len(pred_values)):\n",
    "    y_score.append(pred_values[i][0])"
   ]
  },
  {
   "cell_type": "code",
   "execution_count": 23,
   "id": "8c089339",
   "metadata": {},
   "outputs": [],
   "source": [
    "final_score=dict(zip(X['Candidate ID'],y_score))"
   ]
  },
  {
   "cell_type": "code",
   "execution_count": 24,
   "id": "e76decc5",
   "metadata": {},
   "outputs": [],
   "source": [
    "data1 = {'Candidate ID':final_score.keys(), 'Score':final_score.values()}\n",
    "score_dataframe = pd.DataFrame.from_dict(data1)"
   ]
  },
  {
   "cell_type": "code",
   "execution_count": 25,
   "id": "768fad39",
   "metadata": {},
   "outputs": [
    {
     "data": {
      "text/html": [
       "<div>\n",
       "<style scoped>\n",
       "    .dataframe tbody tr th:only-of-type {\n",
       "        vertical-align: middle;\n",
       "    }\n",
       "\n",
       "    .dataframe tbody tr th {\n",
       "        vertical-align: top;\n",
       "    }\n",
       "\n",
       "    .dataframe thead th {\n",
       "        text-align: right;\n",
       "    }\n",
       "</style>\n",
       "<table border=\"1\" class=\"dataframe\">\n",
       "  <thead>\n",
       "    <tr style=\"text-align: right;\">\n",
       "      <th></th>\n",
       "      <th>Candidate ID</th>\n",
       "      <th>Score</th>\n",
       "      <th>Rank</th>\n",
       "    </tr>\n",
       "  </thead>\n",
       "  <tbody>\n",
       "    <tr>\n",
       "      <th>86</th>\n",
       "      <td>1001641355</td>\n",
       "      <td>2.955318</td>\n",
       "      <td>1.0</td>\n",
       "    </tr>\n",
       "    <tr>\n",
       "      <th>96</th>\n",
       "      <td>1001668286</td>\n",
       "      <td>2.259871</td>\n",
       "      <td>2.0</td>\n",
       "    </tr>\n",
       "    <tr>\n",
       "      <th>46</th>\n",
       "      <td>1001458569</td>\n",
       "      <td>2.064599</td>\n",
       "      <td>3.0</td>\n",
       "    </tr>\n",
       "    <tr>\n",
       "      <th>0</th>\n",
       "      <td>1000114023</td>\n",
       "      <td>1.959308</td>\n",
       "      <td>4.0</td>\n",
       "    </tr>\n",
       "    <tr>\n",
       "      <th>64</th>\n",
       "      <td>1001512025</td>\n",
       "      <td>1.770907</td>\n",
       "      <td>5.0</td>\n",
       "    </tr>\n",
       "    <tr>\n",
       "      <th>...</th>\n",
       "      <td>...</td>\n",
       "      <td>...</td>\n",
       "      <td>...</td>\n",
       "    </tr>\n",
       "    <tr>\n",
       "      <th>37</th>\n",
       "      <td>1001442691</td>\n",
       "      <td>0.000000</td>\n",
       "      <td>107.0</td>\n",
       "    </tr>\n",
       "    <tr>\n",
       "      <th>74</th>\n",
       "      <td>1001561725</td>\n",
       "      <td>0.000000</td>\n",
       "      <td>107.0</td>\n",
       "    </tr>\n",
       "    <tr>\n",
       "      <th>75</th>\n",
       "      <td>1001597493</td>\n",
       "      <td>0.000000</td>\n",
       "      <td>107.0</td>\n",
       "    </tr>\n",
       "    <tr>\n",
       "      <th>10</th>\n",
       "      <td>1000667374</td>\n",
       "      <td>0.000000</td>\n",
       "      <td>107.0</td>\n",
       "    </tr>\n",
       "    <tr>\n",
       "      <th>65</th>\n",
       "      <td>1001523681</td>\n",
       "      <td>0.000000</td>\n",
       "      <td>107.0</td>\n",
       "    </tr>\n",
       "  </tbody>\n",
       "</table>\n",
       "<p>107 rows × 3 columns</p>\n",
       "</div>"
      ],
      "text/plain": [
       "    Candidate ID     Score   Rank\n",
       "86    1001641355  2.955318    1.0\n",
       "96    1001668286  2.259871    2.0\n",
       "46    1001458569  2.064599    3.0\n",
       "0     1000114023  1.959308    4.0\n",
       "64    1001512025  1.770907    5.0\n",
       "..           ...       ...    ...\n",
       "37    1001442691  0.000000  107.0\n",
       "74    1001561725  0.000000  107.0\n",
       "75    1001597493  0.000000  107.0\n",
       "10    1000667374  0.000000  107.0\n",
       "65    1001523681  0.000000  107.0\n",
       "\n",
       "[107 rows x 3 columns]"
      ]
     },
     "execution_count": 25,
     "metadata": {},
     "output_type": "execute_result"
    }
   ],
   "source": [
    "score_dataframe['Rank']=score_dataframe['Score'].rank(method='max',ascending=False)\n",
    "score_dataframe=score_dataframe.sort_values(by='Rank')\n",
    "score_dataframe"
   ]
  },
  {
   "cell_type": "code",
   "execution_count": null,
   "id": "ecd5a5ef",
   "metadata": {},
   "outputs": [],
   "source": []
  }
 ],
 "metadata": {
  "kernelspec": {
   "display_name": "Python 3 (ipykernel)",
   "language": "python",
   "name": "python3"
  },
  "language_info": {
   "codemirror_mode": {
    "name": "ipython",
    "version": 3
   },
   "file_extension": ".py",
   "mimetype": "text/x-python",
   "name": "python",
   "nbconvert_exporter": "python",
   "pygments_lexer": "ipython3",
   "version": "3.9.7"
  }
 },
 "nbformat": 4,
 "nbformat_minor": 5
}
