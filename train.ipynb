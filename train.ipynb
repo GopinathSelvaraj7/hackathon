{
 "cells": [
  {
   "cell_type": "code",
   "execution_count": 1,
   "id": "58d388c1",
   "metadata": {},
   "outputs": [
    {
     "ename": "ModuleNotFoundError",
     "evalue": "No module named 'graph_sequence'",
     "output_type": "error",
     "traceback": [
      "\u001b[1;31m---------------------------------------------------------------------------\u001b[0m",
      "\u001b[1;31mModuleNotFoundError\u001b[0m                       Traceback (most recent call last)",
      "\u001b[1;32m~\\AppData\\Local\\Temp/ipykernel_20596/2448627568.py\u001b[0m in \u001b[0;36m<module>\u001b[1;34m\u001b[0m\n\u001b[0;32m      2\u001b[0m \u001b[1;32mfrom\u001b[0m \u001b[0mkeras\u001b[0m\u001b[1;33m.\u001b[0m\u001b[0mlayers\u001b[0m \u001b[1;32mimport\u001b[0m \u001b[0mDense\u001b[0m\u001b[1;33m\u001b[0m\u001b[1;33m\u001b[0m\u001b[0m\n\u001b[0;32m      3\u001b[0m \u001b[1;33m\u001b[0m\u001b[0m\n\u001b[1;32m----> 4\u001b[1;33m \u001b[1;32mfrom\u001b[0m \u001b[0mgraph_sequence\u001b[0m \u001b[1;32mimport\u001b[0m \u001b[1;33m*\u001b[0m\u001b[1;33m\u001b[0m\u001b[1;33m\u001b[0m\u001b[0m\n\u001b[0m\u001b[0;32m      5\u001b[0m \u001b[1;33m\u001b[0m\u001b[0m\n\u001b[0;32m      6\u001b[0m \u001b[1;32mdef\u001b[0m \u001b[0mgenerate_model\u001b[0m\u001b[1;33m(\u001b[0m\u001b[1;33m)\u001b[0m\u001b[1;33m:\u001b[0m\u001b[1;33m\u001b[0m\u001b[1;33m\u001b[0m\u001b[0m\n",
      "\u001b[1;31mModuleNotFoundError\u001b[0m: No module named 'graph_sequence'"
     ]
    }
   ],
   "source": [
    "from keras.models import Sequential\n",
    "from keras.layers import Dense\n",
    "\n",
    "from graph_sequence import *\n",
    "\n",
    "def generate_model():\n",
    "\tmodel = Sequential([\n",
    "\t\tDense(6, \n",
    "\t\t\tinput_shape=(12,),\n",
    "\t\t\tactivation='tanh'),\n",
    "\t\tDense(6, activation='tanh'),\n",
    "\t\tDense(1, activation='tanh'),\n",
    "\t])\n",
    "\n",
    "\treturn model\n",
    "\n",
    "def train(args):\n",
    "\n",
    "\tmodel = generate_model()\n",
    "\n",
    "\tmodel.compile(loss='mean_squared_error',\n",
    "\t\t\t\toptimizer='adam',\n",
    "\t\t\t\tmetrics=['accuracy'])\n",
    "\n",
    "\tseq_train = GraphSequence(args)\n",
    "\tmodel.fit_generator(seq_train, epochs=10)\n",
    "\n",
    "\tseq_test = GraphSequence(args, test=True)\n",
    "\tresult = model.evaluate_generator(seq_test)\n",
    "\n",
    "\tprint(f\"Accuracy: {round(result[1]*100)}%\")\n",
    "\n",
    "\n",
    "if __name__ == '__main__':\n",
    "\n",
    "\timport argparse\n",
    "\tparser = argparse.ArgumentParser()\n",
    "\tparser.add_argument('--database', type=str, default=\"hosted\")\n",
    "\targs = parser.parse_args()\n",
    "\n",
    "\ttrain(args)\n"
   ]
  },
  {
   "cell_type": "code",
   "execution_count": null,
   "id": "7ff4e053",
   "metadata": {},
   "outputs": [],
   "source": []
  }
 ],
 "metadata": {
  "kernelspec": {
   "display_name": "Python 3 (ipykernel)",
   "language": "python",
   "name": "python3"
  },
  "language_info": {
   "codemirror_mode": {
    "name": "ipython",
    "version": 3
   },
   "file_extension": ".py",
   "mimetype": "text/x-python",
   "name": "python",
   "nbconvert_exporter": "python",
   "pygments_lexer": "ipython3",
   "version": "3.9.7"
  }
 },
 "nbformat": 4,
 "nbformat_minor": 5
}
